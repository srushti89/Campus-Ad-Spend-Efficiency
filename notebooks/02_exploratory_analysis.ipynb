{
 "cells": [
  {
   "cell_type": "markdown",
   "id": "fd82025a",
   "metadata": {},
   "source": [
    "# 📈 Exploratory Data Analysis\n",
    "\n",
    "**Goal:** Understand patterns in advertising data and identify key insights.\n",
    "\n",
    "This notebook covers:\n",
    "- Channel performance analysis\n",
    "- Temporal patterns and seasonality\n",
    "- Audience behavior analysis\n",
    "- Cost efficiency metrics\n",
    "- Conversion funnel analysis\n",
    "\n",
    "---"
   ]
  },
  {
   "cell_type": "code",
   "execution_count": null,
   "id": "54303931",
   "metadata": {},
   "outputs": [],
   "source": [
    "# Import required libraries\n",
    "import pandas as pd\n",
    "import numpy as np\n",
    "import matplotlib.pyplot as plt\n",
    "import seaborn as sns\n",
    "import plotly.express as px\n",
    "import plotly.graph_objects as go\n",
    "from plotly.subplots import make_subplots\n",
    "from datetime import datetime, timedelta\n",
    "import warnings\n",
    "warnings.filterwarnings('ignore')\n",
    "\n",
    "# Set display options\n",
    "pd.set_option('display.max_columns', None)\n",
    "plt.style.use('default')\n",
    "sns.set_palette(\"husl\")\n",
    "\n",
    "print(\"📊 EDA Environment setup complete!\")"
   ]
  }
 ],
 "metadata": {
  "kernelspec": {
   "display_name": ".conda",
   "language": "python",
   "name": "python3"
  },
  "language_info": {
   "name": "python",
   "version": "3.11.13"
  }
 },
 "nbformat": 4,
 "nbformat_minor": 5
}
